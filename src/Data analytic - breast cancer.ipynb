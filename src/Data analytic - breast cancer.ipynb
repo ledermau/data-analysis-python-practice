{
 "cells": [
  {
   "cell_type": "markdown",
   "metadata": {},
   "source": [
    "# Breast Cancer Challenge \n",
    "\n",
    "### Problem Summary\n",
    "The goal of this challenge was to build a model capable of correctly identifying whether a breast cell is benign or malignant based on its measured attributes. \n",
    "\n",
    "Thus, the data science problem is binary classification. Cells can be either class 2 or 4 (which in the cancer grading system corresponds to benign or malignant - classes 1 (also benign) and 3 (local malignancy) are absent). \n",
    "\n",
    "One important consideration for this problem is that simple accuracy is likely not the best metric for evaluating the predictive model's capabilities. In a healthcare setting it is likely that false negatives (e.g. incorrectly classifying malignant cells as benign) are significantly worse than false positives (classifying benign cells as malignant) since the former could result in untreated cancer. The impact of this choice to optimize for recall is highlighted in the Discussion section.\n",
    "\n",
    "This notebook is organized into sections as follows:\n",
    "1. Data exploration\n",
    "2. Modeling - logistic regression\n",
    "3. Hyperparameter tuning\n",
    "4. Discussion\n",
    "5. Conclusion"
   ]
  },
  {
   "cell_type": "code",
   "execution_count": 18,
   "metadata": {},
   "outputs": [],
   "source": [
    "# imports used for this challenge\n",
    "import pandas as pd\n",
    "import seaborn as sns\n",
    "from matplotlib import pyplot as plt\n",
    "import matplotlib.cm as cm\n",
    "import numpy as np\n",
    "import sklearn.linear_model as sklm\n",
    "import sklearn.model_selection as skms\n",
    "import sklearn.ensemble as sken\n",
    "from sklearn.metrics import accuracy_score, confusion_matrix, recall_score\n",
    "from scipy.stats import uniform\n",
    "from sklearn.preprocessing import StandardScaler\n",
    "import itertools"
   ]
  },
  {
   "cell_type": "code",
   "execution_count": 2,
   "metadata": {},
   "outputs": [],
   "source": [
    "# set some globals, parameters\n",
    "sns.set_style(\"darkgrid\")\n",
    "\n",
    "# also define a confusion matrix function\n",
    "# citation: http://scikit-learn.org/stable/auto_examples/model_selection/plot_confusion_matrix.html (BSD License)\n",
    "\n",
    "def plot_confusion_matrix(cm, classes,\n",
    "                          normalize=False,\n",
    "                          title='Confusion matrix',\n",
    "                          cmap=plt.cm.Blues):\n",
    "    \"\"\"\n",
    "    This function prints and plots the confusion matrix.\n",
    "    Normalization can be applied by setting `normalize=True`.\n",
    "    \"\"\"\n",
    "    if normalize:\n",
    "        cm = cm.astype('float') / cm.sum(axis=1)[:, np.newaxis]\n",
    "        print(\"Normalized confusion matrix\")\n",
    "    else:\n",
    "        print('Confusion matrix, without normalization')\n",
    "\n",
    "    print(cm)\n",
    "\n",
    "    plt.imshow(cm, interpolation='nearest', cmap=cmap)\n",
    "    plt.title(title, fontsize=14)\n",
    "    plt.colorbar()\n",
    "    tick_marks = np.arange(len(classes))\n",
    "    plt.xticks(tick_marks, classes, rotation=45, fontsize=14)\n",
    "    plt.yticks(tick_marks, classes, fontsize=14)\n",
    "\n",
    "    fmt = '.2f' if normalize else 'd'\n",
    "    thresh = cm.max() / 2.\n",
    "    for i, j in itertools.product(range(cm.shape[0]), range(cm.shape[1])):\n",
    "        plt.text(j, i, format(cm[i, j], fmt),\n",
    "                 horizontalalignment=\"center\",\n",
    "                 color=\"white\" if cm[i, j] > thresh else \"black\")\n",
    "\n",
    "    plt.tight_layout()\n",
    "    plt.ylabel('True label', fontsize=14)\n",
    "    plt.xlabel('Predicted label', fontsize=14)"
   ]
  },
  {
   "cell_type": "markdown",
   "metadata": {},
   "source": [
    "### Data exploration\n",
    "Here, we:\n",
    "* Read in data and do basic tests to understand how the data are organized\n",
    "* Look for missing data\n",
    "* Evaluate class imbalances \n",
    "* Investigate feature correlations\n",
    "\n",
    "First, we can read in the data, assigning column names as described in the documentation."
   ]
  },
  {
   "cell_type": "code",
   "execution_count": 3,
   "metadata": {},
   "outputs": [
    {
     "data": {
      "text/html": [
       "<div>\n",
       "<style scoped>\n",
       "    .dataframe tbody tr th:only-of-type {\n",
       "        vertical-align: middle;\n",
       "    }\n",
       "\n",
       "    .dataframe tbody tr th {\n",
       "        vertical-align: top;\n",
       "    }\n",
       "\n",
       "    .dataframe thead th {\n",
       "        text-align: right;\n",
       "    }\n",
       "</style>\n",
       "<table border=\"1\" class=\"dataframe\">\n",
       "  <thead>\n",
       "    <tr style=\"text-align: right;\">\n",
       "      <th></th>\n",
       "      <th>Clump Thickness</th>\n",
       "      <th>Size Uniformity</th>\n",
       "      <th>Shape Uniformity</th>\n",
       "      <th>Marginal Adhesion</th>\n",
       "      <th>Epithelial Size</th>\n",
       "      <th>Bare Nuclei</th>\n",
       "      <th>Bland Chromatin</th>\n",
       "      <th>Normal Nucleoli</th>\n",
       "      <th>Mitoses</th>\n",
       "      <th>Class</th>\n",
       "    </tr>\n",
       "    <tr>\n",
       "      <th>ID</th>\n",
       "      <th></th>\n",
       "      <th></th>\n",
       "      <th></th>\n",
       "      <th></th>\n",
       "      <th></th>\n",
       "      <th></th>\n",
       "      <th></th>\n",
       "      <th></th>\n",
       "      <th></th>\n",
       "      <th></th>\n",
       "    </tr>\n",
       "  </thead>\n",
       "  <tbody>\n",
       "    <tr>\n",
       "      <th>1000025</th>\n",
       "      <td>5</td>\n",
       "      <td>1</td>\n",
       "      <td>1</td>\n",
       "      <td>1</td>\n",
       "      <td>2</td>\n",
       "      <td>1</td>\n",
       "      <td>3</td>\n",
       "      <td>1</td>\n",
       "      <td>1</td>\n",
       "      <td>2</td>\n",
       "    </tr>\n",
       "    <tr>\n",
       "      <th>1002945</th>\n",
       "      <td>5</td>\n",
       "      <td>4</td>\n",
       "      <td>4</td>\n",
       "      <td>5</td>\n",
       "      <td>7</td>\n",
       "      <td>10</td>\n",
       "      <td>3</td>\n",
       "      <td>2</td>\n",
       "      <td>1</td>\n",
       "      <td>2</td>\n",
       "    </tr>\n",
       "    <tr>\n",
       "      <th>1015425</th>\n",
       "      <td>3</td>\n",
       "      <td>1</td>\n",
       "      <td>1</td>\n",
       "      <td>1</td>\n",
       "      <td>2</td>\n",
       "      <td>2</td>\n",
       "      <td>3</td>\n",
       "      <td>1</td>\n",
       "      <td>1</td>\n",
       "      <td>2</td>\n",
       "    </tr>\n",
       "    <tr>\n",
       "      <th>1016277</th>\n",
       "      <td>6</td>\n",
       "      <td>8</td>\n",
       "      <td>8</td>\n",
       "      <td>1</td>\n",
       "      <td>3</td>\n",
       "      <td>4</td>\n",
       "      <td>3</td>\n",
       "      <td>7</td>\n",
       "      <td>1</td>\n",
       "      <td>2</td>\n",
       "    </tr>\n",
       "    <tr>\n",
       "      <th>1017023</th>\n",
       "      <td>4</td>\n",
       "      <td>1</td>\n",
       "      <td>1</td>\n",
       "      <td>3</td>\n",
       "      <td>2</td>\n",
       "      <td>1</td>\n",
       "      <td>3</td>\n",
       "      <td>1</td>\n",
       "      <td>1</td>\n",
       "      <td>2</td>\n",
       "    </tr>\n",
       "  </tbody>\n",
       "</table>\n",
       "</div>"
      ],
      "text/plain": [
       "         Clump Thickness  Size Uniformity  Shape Uniformity  \\\n",
       "ID                                                            \n",
       "1000025                5                1                 1   \n",
       "1002945                5                4                 4   \n",
       "1015425                3                1                 1   \n",
       "1016277                6                8                 8   \n",
       "1017023                4                1                 1   \n",
       "\n",
       "         Marginal Adhesion  Epithelial Size Bare Nuclei  Bland Chromatin  \\\n",
       "ID                                                                         \n",
       "1000025                  1                2           1                3   \n",
       "1002945                  5                7          10                3   \n",
       "1015425                  1                2           2                3   \n",
       "1016277                  1                3           4                3   \n",
       "1017023                  3                2           1                3   \n",
       "\n",
       "         Normal Nucleoli  Mitoses  Class  \n",
       "ID                                        \n",
       "1000025                1        1      2  \n",
       "1002945                2        1      2  \n",
       "1015425                1        1      2  \n",
       "1016277                7        1      2  \n",
       "1017023                1        1      2  "
      ]
     },
     "execution_count": 3,
     "metadata": {},
     "output_type": "execute_result"
    }
   ],
   "source": [
    "colnames = ['ID', 'Clump Thickness', 'Size Uniformity', 'Shape Uniformity', 'Marginal Adhesion', 'Epithelial Size',\n",
    "         'Bare Nuclei', 'Bland Chromatin', 'Normal Nucleoli', 'Mitoses', 'Class']\n",
    "cell_features_classes = pd.read_csv('breast-cancer-wisconsin.csv', header=None, names=colnames, index_col=0)\n",
    "cell_features_classes.head()"
   ]
  },
  {
   "cell_type": "markdown",
   "metadata": {},
   "source": [
    "From the above, we can see that indeed the features are discretized. Now let's see how the features are distributed - i.e. do some features only take on certain values between 1 and 10? Also, let's double check to make sure the column dtypes are what they appear to be. "
   ]
  },
  {
   "cell_type": "code",
   "execution_count": 4,
   "metadata": {},
   "outputs": [
    {
     "name": "stdout",
     "output_type": "stream",
     "text": [
      "Clump Thickness unique values:  [1, 2, 3, 4, 5, 6, 7, 8, 9, 10] int64\n",
      "Size Uniformity unique values:  [1, 2, 3, 4, 5, 6, 7, 8, 9, 10] int64\n",
      "Shape Uniformity unique values:  [1, 2, 3, 4, 5, 6, 7, 8, 9, 10] int64\n",
      "Marginal Adhesion unique values:  [1, 2, 3, 4, 5, 6, 7, 8, 9, 10] int64\n",
      "Epithelial Size unique values:  [1, 2, 3, 4, 5, 6, 7, 8, 9, 10] int64\n",
      "Bare Nuclei unique values:  ['1', '10', '2', '3', '4', '5', '6', '7', '8', '9', '?'] object\n",
      "Bland Chromatin unique values:  [1, 2, 3, 4, 5, 6, 7, 8, 9, 10] int64\n",
      "Normal Nucleoli unique values:  [1, 2, 3, 4, 5, 6, 7, 8, 9, 10] int64\n",
      "Mitoses unique values:  [1, 2, 3, 4, 5, 6, 7, 8, 10] int64\n",
      "Class unique values:  [2, 4] int64\n"
     ]
    }
   ],
   "source": [
    "for featurename in colnames[1:]:\n",
    "    unique_values = sorted(list(cell_features_classes[featurename].unique()))\n",
    "    print(featurename+' unique values: ', unique_values, cell_features_classes[featurename].dtype)"
   ]
  },
  {
   "cell_type": "markdown",
   "metadata": {},
   "source": [
    "Aha! While it appears that features do span the entire possible range of values, we can see that the Bare Nuclei column actually has some unknown values which were input as '?'\n",
    "\n",
    "First, let's see what classes unknown bare nuclei come from (for example, maybe all '?' values correspond to malignant cells). "
   ]
  },
  {
   "cell_type": "code",
   "execution_count": 5,
   "metadata": {},
   "outputs": [
    {
     "name": "stdout",
     "output_type": "stream",
     "text": [
      "The classes of unknown nuclei are \n",
      " ID\n",
      "1057013    4\n",
      "1096800    2\n",
      "1183246    2\n",
      "1184840    2\n",
      "1193683    2\n",
      "1197510    2\n",
      "1241232    2\n",
      "169356     2\n",
      "432809     2\n",
      "563649     4\n",
      "606140     2\n",
      "61634      2\n",
      "704168     2\n",
      "733639     2\n",
      "1238464    2\n",
      "1057067    2\n",
      "Name: Class, dtype: int64\n"
     ]
    }
   ],
   "source": [
    "unknown_nuclei_classes = cell_features_classes[cell_features_classes['Bare Nuclei']=='?']['Class']\n",
    "print('The classes of unknown nuclei are \\n', unknown_nuclei_classes)"
   ]
  },
  {
   "cell_type": "markdown",
   "metadata": {},
   "source": [
    "It looks like there is a mix, so maybe this '?' category is due to poor microscope images, etc. Since there are only 16 unknown values, let's just remove them from the sample."
   ]
  },
  {
   "cell_type": "code",
   "execution_count": 6,
   "metadata": {},
   "outputs": [],
   "source": [
    "cleaned_features_classes = cell_features_classes.replace('?', np.NaN).dropna()\n",
    "cleaned_features_classes = cleaned_features_classes.astype({'Bare Nuclei':'int64'})"
   ]
  },
  {
   "cell_type": "markdown",
   "metadata": {},
   "source": [
    "With the features cleaned, we can recast the classes as being 0 (for benign) and 1 (for malignant). Thus our classes have been intuitively mapped to positive class for malignant, negative for benign. This makes the process of model evaluation a little more convenient down the road and we can always map our predictions back to the real tumor class values."
   ]
  },
  {
   "cell_type": "code",
   "execution_count": 7,
   "metadata": {},
   "outputs": [],
   "source": [
    "cleaned_features_classes.Class.replace([2, 4], [0, 1], inplace=True)"
   ]
  },
  {
   "cell_type": "markdown",
   "metadata": {},
   "source": [
    " Now we can take a look at the cleaned data:"
   ]
  },
  {
   "cell_type": "code",
   "execution_count": 8,
   "metadata": {},
   "outputs": [
    {
     "data": {
      "text/html": [
       "<div>\n",
       "<style scoped>\n",
       "    .dataframe tbody tr th:only-of-type {\n",
       "        vertical-align: middle;\n",
       "    }\n",
       "\n",
       "    .dataframe tbody tr th {\n",
       "        vertical-align: top;\n",
       "    }\n",
       "\n",
       "    .dataframe thead th {\n",
       "        text-align: right;\n",
       "    }\n",
       "</style>\n",
       "<table border=\"1\" class=\"dataframe\">\n",
       "  <thead>\n",
       "    <tr style=\"text-align: right;\">\n",
       "      <th></th>\n",
       "      <th>Clump Thickness</th>\n",
       "      <th>Size Uniformity</th>\n",
       "      <th>Shape Uniformity</th>\n",
       "      <th>Marginal Adhesion</th>\n",
       "      <th>Epithelial Size</th>\n",
       "      <th>Bare Nuclei</th>\n",
       "      <th>Bland Chromatin</th>\n",
       "      <th>Normal Nucleoli</th>\n",
       "      <th>Mitoses</th>\n",
       "      <th>Class</th>\n",
       "    </tr>\n",
       "  </thead>\n",
       "  <tbody>\n",
       "    <tr>\n",
       "      <th>count</th>\n",
       "      <td>683.000000</td>\n",
       "      <td>683.000000</td>\n",
       "      <td>683.000000</td>\n",
       "      <td>683.000000</td>\n",
       "      <td>683.000000</td>\n",
       "      <td>683.000000</td>\n",
       "      <td>683.000000</td>\n",
       "      <td>683.000000</td>\n",
       "      <td>683.000000</td>\n",
       "      <td>683.000000</td>\n",
       "    </tr>\n",
       "    <tr>\n",
       "      <th>mean</th>\n",
       "      <td>4.442167</td>\n",
       "      <td>3.150805</td>\n",
       "      <td>3.215227</td>\n",
       "      <td>2.830161</td>\n",
       "      <td>3.234261</td>\n",
       "      <td>3.544656</td>\n",
       "      <td>3.445095</td>\n",
       "      <td>2.869693</td>\n",
       "      <td>1.603221</td>\n",
       "      <td>0.349927</td>\n",
       "    </tr>\n",
       "    <tr>\n",
       "      <th>std</th>\n",
       "      <td>2.820761</td>\n",
       "      <td>3.065145</td>\n",
       "      <td>2.988581</td>\n",
       "      <td>2.864562</td>\n",
       "      <td>2.223085</td>\n",
       "      <td>3.643857</td>\n",
       "      <td>2.449697</td>\n",
       "      <td>3.052666</td>\n",
       "      <td>1.732674</td>\n",
       "      <td>0.477296</td>\n",
       "    </tr>\n",
       "    <tr>\n",
       "      <th>min</th>\n",
       "      <td>1.000000</td>\n",
       "      <td>1.000000</td>\n",
       "      <td>1.000000</td>\n",
       "      <td>1.000000</td>\n",
       "      <td>1.000000</td>\n",
       "      <td>1.000000</td>\n",
       "      <td>1.000000</td>\n",
       "      <td>1.000000</td>\n",
       "      <td>1.000000</td>\n",
       "      <td>0.000000</td>\n",
       "    </tr>\n",
       "    <tr>\n",
       "      <th>25%</th>\n",
       "      <td>2.000000</td>\n",
       "      <td>1.000000</td>\n",
       "      <td>1.000000</td>\n",
       "      <td>1.000000</td>\n",
       "      <td>2.000000</td>\n",
       "      <td>1.000000</td>\n",
       "      <td>2.000000</td>\n",
       "      <td>1.000000</td>\n",
       "      <td>1.000000</td>\n",
       "      <td>0.000000</td>\n",
       "    </tr>\n",
       "    <tr>\n",
       "      <th>50%</th>\n",
       "      <td>4.000000</td>\n",
       "      <td>1.000000</td>\n",
       "      <td>1.000000</td>\n",
       "      <td>1.000000</td>\n",
       "      <td>2.000000</td>\n",
       "      <td>1.000000</td>\n",
       "      <td>3.000000</td>\n",
       "      <td>1.000000</td>\n",
       "      <td>1.000000</td>\n",
       "      <td>0.000000</td>\n",
       "    </tr>\n",
       "    <tr>\n",
       "      <th>75%</th>\n",
       "      <td>6.000000</td>\n",
       "      <td>5.000000</td>\n",
       "      <td>5.000000</td>\n",
       "      <td>4.000000</td>\n",
       "      <td>4.000000</td>\n",
       "      <td>6.000000</td>\n",
       "      <td>5.000000</td>\n",
       "      <td>4.000000</td>\n",
       "      <td>1.000000</td>\n",
       "      <td>1.000000</td>\n",
       "    </tr>\n",
       "    <tr>\n",
       "      <th>max</th>\n",
       "      <td>10.000000</td>\n",
       "      <td>10.000000</td>\n",
       "      <td>10.000000</td>\n",
       "      <td>10.000000</td>\n",
       "      <td>10.000000</td>\n",
       "      <td>10.000000</td>\n",
       "      <td>10.000000</td>\n",
       "      <td>10.000000</td>\n",
       "      <td>10.000000</td>\n",
       "      <td>1.000000</td>\n",
       "    </tr>\n",
       "  </tbody>\n",
       "</table>\n",
       "</div>"
      ],
      "text/plain": [
       "       Clump Thickness  Size Uniformity  Shape Uniformity  Marginal Adhesion  \\\n",
       "count       683.000000       683.000000        683.000000         683.000000   \n",
       "mean          4.442167         3.150805          3.215227           2.830161   \n",
       "std           2.820761         3.065145          2.988581           2.864562   \n",
       "min           1.000000         1.000000          1.000000           1.000000   \n",
       "25%           2.000000         1.000000          1.000000           1.000000   \n",
       "50%           4.000000         1.000000          1.000000           1.000000   \n",
       "75%           6.000000         5.000000          5.000000           4.000000   \n",
       "max          10.000000        10.000000         10.000000          10.000000   \n",
       "\n",
       "       Epithelial Size  Bare Nuclei  Bland Chromatin  Normal Nucleoli  \\\n",
       "count       683.000000   683.000000       683.000000       683.000000   \n",
       "mean          3.234261     3.544656         3.445095         2.869693   \n",
       "std           2.223085     3.643857         2.449697         3.052666   \n",
       "min           1.000000     1.000000         1.000000         1.000000   \n",
       "25%           2.000000     1.000000         2.000000         1.000000   \n",
       "50%           2.000000     1.000000         3.000000         1.000000   \n",
       "75%           4.000000     6.000000         5.000000         4.000000   \n",
       "max          10.000000    10.000000        10.000000        10.000000   \n",
       "\n",
       "          Mitoses       Class  \n",
       "count  683.000000  683.000000  \n",
       "mean     1.603221    0.349927  \n",
       "std      1.732674    0.477296  \n",
       "min      1.000000    0.000000  \n",
       "25%      1.000000    0.000000  \n",
       "50%      1.000000    0.000000  \n",
       "75%      1.000000    1.000000  \n",
       "max     10.000000    1.000000  "
      ]
     },
     "execution_count": 8,
     "metadata": {},
     "output_type": "execute_result"
    }
   ],
   "source": [
    "cleaned_features_classes.describe()"
   ]
  },
  {
   "cell_type": "markdown",
   "metadata": {},
   "source": [
    "A few observations:\n",
    "* Since we removed some entries, there are now 683 cells with complete data\n",
    "* The classes appear to be imbalanced, since the mean class is 0.35 instead of 0.5 as expected for balanced classes.\n",
    "* The features are also not evenly distributed across the possible dynamic range - all features have means well below the 5.5 expected for an even distribution.\n",
    "* In particular the Mitoses column has many low values - since mitoses refers to cell division this could just mean that most cells are not undergoing mitoses.\n",
    "\n",
    "Just to confirm what can be seen in the above table, let's see how unbalanced the classes are:"
   ]
  },
  {
   "cell_type": "code",
   "execution_count": 9,
   "metadata": {},
   "outputs": [
    {
     "name": "stdout",
     "output_type": "stream",
     "text": [
      "The fraction of cells that are benign is: 0.65\n"
     ]
    }
   ],
   "source": [
    "benign_fraction = (cleaned_features_classes[cleaned_features_classes['Class']==0].count()[0]) \\\n",
    "                    / cleaned_features_classes['Class'].count()\n",
    "print('The fraction of cells that are benign is:', round(benign_fraction, 2))"
   ]
  },
  {
   "cell_type": "markdown",
   "metadata": {},
   "source": [
    "So about 2:1 in favor of benign cells. This isn't so unbalanced that we can't simply adjust class weights during model training. \n",
    "\n",
    "As a final bit of exploratory analysis, let's see how correlated the features are with one another and with the target classes."
   ]
  },
  {
   "cell_type": "code",
   "execution_count": 10,
   "metadata": {},
   "outputs": [
    {
     "data": {
      "text/plain": [
       "([<matplotlib.axis.YTick at 0x1a1cd03ef0>,\n",
       "  <matplotlib.axis.YTick at 0x1a1cd15400>,\n",
       "  <matplotlib.axis.YTick at 0x1a1cd15470>,\n",
       "  <matplotlib.axis.YTick at 0x1a1cd5a0b8>,\n",
       "  <matplotlib.axis.YTick at 0x1a1cd38710>,\n",
       "  <matplotlib.axis.YTick at 0x1a1cd665c0>,\n",
       "  <matplotlib.axis.YTick at 0x1a1cd66e48>,\n",
       "  <matplotlib.axis.YTick at 0x1a1cd75588>,\n",
       "  <matplotlib.axis.YTick at 0x1a1cd75c88>,\n",
       "  <matplotlib.axis.YTick at 0x1a1cd7a3c8>],\n",
       " <a list of 10 Text yticklabel objects>)"
      ]
     },
     "execution_count": 10,
     "metadata": {},
     "output_type": "execute_result"
    },
    {
     "data": {
      "image/png": "[encoded data removed]",
      "text/plain": [
       "<matplotlib.figure.Figure at 0x1a173312e8>"
      ]
     },
     "metadata": {},
     "output_type": "display_data"
    }
   ],
   "source": [
    "feature_correlations = cleaned_features_classes[colnames[1:]].corr()\n",
    "\n",
    "fig, ax = plt.subplots(figsize=(8, 8))\n",
    "ax.matshow(feature_correlations,cmap=cm.get_cmap('coolwarm'), vmin=0,vmax=1)\n",
    "plt.xticks(range(len(feature_correlations.columns)), feature_correlations.columns, rotation='vertical', fontsize=14)\n",
    "plt.yticks(range(len(feature_correlations.columns)), feature_correlations.columns, fontsize=14)"
   ]
  },
  {
   "cell_type": "markdown",
   "metadata": {},
   "source": [
    "Looking at the correlation matrix, we can see a few things:\n",
    "* As expected by the fact that Mitoses is generally 1, it doesn't strongly correlate with anything\n",
    "* Class is correlated with the rest of the features\n",
    "* Some features are highly correlated - for example Size/Shape Uniformity are correlated. "
   ]
  },
  {
   "cell_type": "markdown",
   "metadata": {},
   "source": [
    "### Modeling - Logistic Regression\n",
    "\n",
    "To briefly summarize key insights from the data exploratoration:\n",
    "* After cleaning, data is complete for 683 cells - a small number of cells were ignored due to unknown entries\n",
    "* Features are somewhat biased towards low values but span the entire range of possible values\n",
    "* Classes are slightly imbalanced 2:1 in favor of benign samples\n",
    "* Some features are correlated with one another\n",
    "* The feature set is correlated with the classification, indicating meaningful features\n",
    "\n",
    "As this is binary classification, (multivariate) logistic regression is a good first algorithm. As an added bonus this algorithm avoids having decorrelate our data (which we would want to do if we were to use, e.g., naive Bayes).  \n",
    "\n",
    "First things first - let's split the data into training and test sets (75/25 split - this leaves about 150 cells as a test set). We stratify the split to ensure the fractions of malignant tumors are the same in the test split as the overall set. Features are scaled as they are split - feature scaling is important for some regularization methods (e.g. ridge). "
   ]
  },
  {
   "cell_type": "code",
   "execution_count": 11,
   "metadata": {},
   "outputs": [],
   "source": [
    "X_train, X_test, y_train, y_test = skms.train_test_split(StandardScaler().fit_transform(\n",
    "    cleaned_features_classes[colnames[1:10]]), cleaned_features_classes[colnames[-1]], test_size=0.25, \n",
    "    stratify=cleaned_features_classes[colnames[-1]])"
   ]
  },
  {
   "cell_type": "markdown",
   "metadata": {},
   "source": [
    "Now, we can do a basic regression using default sklearn parameters (ridge regularization, unit regularization weight). Note that here and below the classes are set to be balanced.\n",
    "\n",
    "As discussed in the introduction, **the metric used to assess model performance is recall**, since we want to minimize the number of malignant cells falsely identified as benign. "
   ]
  },
  {
   "cell_type": "code",
   "execution_count": 12,
   "metadata": {},
   "outputs": [
    {
     "name": "stdout",
     "output_type": "stream",
     "text": [
      "Off-the-shelf logistic model recall: 0.96667\n"
     ]
    }
   ],
   "source": [
    "basic_logmodel = sklm.LogisticRegression(class_weight='balanced')\n",
    "basic_logmodel.fit(X_train, y_train)\n",
    "\n",
    "basic_results = basic_logmodel.predict(X_test)\n",
    "\n",
    "basic_recall = recall_score(y_test, basic_results)\n",
    "print('Off-the-shelf logistic model recall:', round(basic_recall, 5))\n"
   ]
  },
  {
   "cell_type": "markdown",
   "metadata": {},
   "source": [
    "### Hyperparameter Tuning\n",
    "\n",
    "In reality, though, we want to tune the regression hyperparameters rather than use the defaults. This can be done using sklearn's randomizedsearchcv. In particular we are interested in tuning:\n",
    "* The choice of cost function (L1/lasso or L2/ridge)\n",
    "* The regularization strength (given as k = 1/lambda)\n",
    "* The intercept scaling (coefficient controls how strongly regularization is applied to the intercept term)\n",
    "\n",
    "We use 10-fold cross-validation, 3000 iterations, and store the best parameters.\n",
    "\n",
    "Note again that the scoring method to select the best hyperparameters is recall, i.e. we want to minimize the number of false negatives, because incorrectly identifying a malignant cell as benign is much worse than identifying a benign cell as malignant. "
   ]
  },
  {
   "cell_type": "code",
   "execution_count": 13,
   "metadata": {},
   "outputs": [
    {
     "name": "stdout",
     "output_type": "stream",
     "text": [
      "best penalty, k, and intercept scaling: l2 0.66 0.08\n"
     ]
    }
   ],
   "source": [
    "# define the model to cross-validate\n",
    "cell_xvalmodel = sklm.LogisticRegression(class_weight='balanced')\n",
    "\n",
    "# define the hyperparameter ranges\n",
    "penalties = ['l1', 'l2']\n",
    "k_range = np.arange(0.01, 1.5, 0.025)\n",
    "intercept_range = np.arange(0.01, 1.5, 0.025)\n",
    "hyperparameters = dict(penalty=penalties, C=k_range, intercept_scaling=intercept_range)\n",
    "\n",
    "# now run the cross-validation\n",
    "crossval = skms.RandomizedSearchCV(cell_xvalmodel, hyperparameters, n_iter=3000,\n",
    "                                   cv=10, refit='recall_score', n_jobs=-1, verbose=0)\n",
    "best_model = crossval.fit(X_train, y_train)\n",
    "\n",
    "# return the best parameters\n",
    "best_penalty = best_model.best_estimator_.get_params()['penalty']\n",
    "best_k = best_model.best_estimator_.get_params()['C']\n",
    "best_intercept = best_model.best_estimator_.get_params()['intercept_scaling']\n",
    "print('best penalty, k, and intercept scaling:', best_penalty, round(best_k, 2), round(best_intercept,2))"
   ]
  },
  {
   "cell_type": "markdown",
   "metadata": {},
   "source": [
    "With the best hyperparameters, we can now run the model on the holdout set to retrieve test predictions. "
   ]
  },
  {
   "cell_type": "code",
   "execution_count": 14,
   "metadata": {},
   "outputs": [
    {
     "name": "stdout",
     "output_type": "stream",
     "text": [
      "Tuned logistic model recall: 0.98333\n"
     ]
    }
   ],
   "source": [
    "tuned_results = best_model.predict(X_test)\n",
    "\n",
    "tuned_recall = recall_score(y_test, tuned_results)\n",
    "print('Tuned logistic model recall:', round(tuned_recall, 5))"
   ]
  },
  {
   "cell_type": "markdown",
   "metadata": {},
   "source": [
    "Nice! Our recall score improved over the default model. \n",
    "\n",
    "### Discussion\n",
    "Let's dive a little deeper into the results - we can plot a confusion matrix to get some insight into how the tuned model performs. Of particular interest is the upper right hand portion of the matrix - this indicates the false negatives, which we want to avoid. "
   ]
  },
  {
   "cell_type": "code",
   "execution_count": 17,
   "metadata": {
    "scrolled": false
   },
   "outputs": [
    {
     "name": "stdout",
     "output_type": "stream",
     "text": [
      "Normalized confusion matrix\n",
      "[[0.98333333 0.01666667]\n",
      " [0.03603604 0.96396396]]\n"
     ]
    },
    {
     "data": {
      "image/png": "[encoded data removed]",
      "text/plain": [
       "<matplotlib.figure.Figure at 0x1a21134860>"
      ]
     },
     "metadata": {},
     "output_type": "display_data"
    }
   ],
   "source": [
    "confusion_mat = confusion_matrix(y_test, tuned_results, labels=[1, 0])\n",
    "\n",
    "plt.figure(figsize=(8,8))\n",
    "\n",
    "plot_confusion_matrix(confusion_mat, classes=['Malignant', 'Benign'], normalize=True,\n",
    "                      title='Breast Cancer Logistic Regression Confusion Matrix')\n",
    "\n",
    "plt.show()\n"
   ]
  },
  {
   "cell_type": "markdown",
   "metadata": {},
   "source": [
    "Because the hyperparameters were optimized for recall, it is expected that precision suffers - i.e. we chose to minimize false negatives at the expense of increasing false positives. In a healthcare setting this would seem to be a worthwhile tradeoff. "
   ]
  },
  {
   "cell_type": "markdown",
   "metadata": {},
   "source": [
    "### Conclusion\n",
    "\n",
    "The logistic regression model I implemented achieves >95% success in identifying truly malignant breast cells. This was achieved while optimizing for recall in order to minimize the number of false negatives (malignant cells misclassified as benign). \n",
    "\n",
    "When using the approach detailed in this work in a healthcare setting, one possible improvement that could be made is to adjust the threshold used to classify a cell as benign/malignant. For example, if a hospital knew they wanted to achieve a false negative rate of <1%, then during cross-validation the decision boundary could be adjusted in order to reduce the false negative rate (at the expense of more false positives).  \n",
    "\n",
    "Another possible area for improvement is model selection. Since the features are discretized, a tree-based model may be another good choice. I did try a random forest classifier initially in addition to logistic regression, but the logistic regression classifier gave better results by default, so I chose to pursue the latter. With more time and depending on how important it is to improve performance, it may be worth it to comprehensively explore other models.\n",
    "\n",
    "\n",
    "\n"
   ]
  },
  {
   "cell_type": "markdown",
   "metadata": {},
   "source": []
  }
 ],
 "metadata": {
  "kernelspec": {
   "display_name": "Python 3",
   "language": "python",
   "name": "python3"
  },
  "language_info": {
   "codemirror_mode": {
    "name": "ipython",
    "version": 3
   },
   "file_extension": ".py",
   "mimetype": "text/x-python",
   "name": "python",
   "nbconvert_exporter": "python",
   "pygments_lexer": "ipython3",
   "version": "3.6.4"
  }
 },
 "nbformat": 4,
 "nbformat_minor": 2
}
